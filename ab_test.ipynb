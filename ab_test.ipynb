{
 "cells": [
  {
   "cell_type": "markdown",
   "metadata": {},
   "source": [
    "# Оценка результатов A/B теста"
   ]
  },
  {
   "cell_type": "markdown",
   "metadata": {},
   "source": [
    "1. [Описание и цели](#objectives)\n",
    "2. [Обзор и предобработка данных](#preprocessing)\n",
    "3. [Изучение результатов эксперимента](#results)\n",
    "    * [A/A тест](#aatest)\n",
    "    * [Функция сравнения статистических различий долей выборок](#def)\n",
    "    * [A/B тест](#abtest)\n",
    "8. [Выводы](#summary)"
   ]
  },
  {
   "cell_type": "markdown",
   "metadata": {},
   "source": [
    "## Описание и цели<a id=\"objectives\"></a>\n",
    "\n",
    "На сайте внедрили новое решение — назойливый чат с менеджером.\n",
    "\n",
    "Необходимо провести анализ результатов A/B теста для выборок пользователей, которым показывали чат и тем, кто пользовался версией сайта без чата.\n",
    "\n",
    "Определить есть ли различия между выборками 2х контрольных групп."
   ]
  },
  {
   "cell_type": "markdown",
   "metadata": {},
   "source": [
    "## Обзор и предобработка данных<a id=\"preprocessing\"></a>"
   ]
  },
  {
   "cell_type": "code",
   "execution_count": 1,
   "metadata": {},
   "outputs": [],
   "source": [
    "# импорт бибилиотек\n",
    "import pandas as pd\n",
    "import seaborn as sns\n",
    "import matplotlib.pyplot as plt\n",
    "import numpy as np\n",
    "import matplotlib as mpl\n",
    "import plotly.graph_objects as go\n",
    "from scipy import stats as st\n",
    "import math as mth"
   ]
  },
  {
   "cell_type": "code",
   "execution_count": 2,
   "metadata": {},
   "outputs": [],
   "source": [
    "#чтение файлов\n",
    "path = ''\n",
    "data = pd.read_csv(path+'ab_log.csv')"
   ]
  },
  {
   "cell_type": "code",
   "execution_count": 3,
   "metadata": {},
   "outputs": [
    {
     "data": {
      "text/html": [
       "<div>\n",
       "<style scoped>\n",
       "    .dataframe tbody tr th:only-of-type {\n",
       "        vertical-align: middle;\n",
       "    }\n",
       "\n",
       "    .dataframe tbody tr th {\n",
       "        vertical-align: top;\n",
       "    }\n",
       "\n",
       "    .dataframe thead th {\n",
       "        text-align: right;\n",
       "    }\n",
       "</style>\n",
       "<table border=\"1\" class=\"dataframe\">\n",
       "  <thead>\n",
       "    <tr style=\"text-align: right;\">\n",
       "      <th></th>\n",
       "      <th>event</th>\n",
       "      <th>user_id</th>\n",
       "      <th>EventTime</th>\n",
       "      <th>Group</th>\n",
       "    </tr>\n",
       "  </thead>\n",
       "  <tbody>\n",
       "    <tr>\n",
       "      <th>0</th>\n",
       "      <td>StartReadingOffer</td>\n",
       "      <td>7241586465170049200</td>\n",
       "      <td>1564978321</td>\n",
       "      <td>A2</td>\n",
       "    </tr>\n",
       "    <tr>\n",
       "      <th>1</th>\n",
       "      <td>OpenProductCard</td>\n",
       "      <td>4998498972125515821</td>\n",
       "      <td>1564678223</td>\n",
       "      <td>A2</td>\n",
       "    </tr>\n",
       "    <tr>\n",
       "      <th>2</th>\n",
       "      <td>StartReadingOffer</td>\n",
       "      <td>5794343176311717876</td>\n",
       "      <td>1564681595</td>\n",
       "      <td>B</td>\n",
       "    </tr>\n",
       "    <tr>\n",
       "      <th>3</th>\n",
       "      <td>StartReadingOffer</td>\n",
       "      <td>3371640160394640961</td>\n",
       "      <td>1564635919</td>\n",
       "      <td>A1</td>\n",
       "    </tr>\n",
       "    <tr>\n",
       "      <th>4</th>\n",
       "      <td>OpenProductCard</td>\n",
       "      <td>4623191541226589455</td>\n",
       "      <td>1564695060</td>\n",
       "      <td>A1</td>\n",
       "    </tr>\n",
       "  </tbody>\n",
       "</table>\n",
       "</div>"
      ],
      "text/plain": [
       "               event              user_id   EventTime Group\n",
       "0  StartReadingOffer  7241586465170049200  1564978321    A2\n",
       "1    OpenProductCard  4998498972125515821  1564678223    A2\n",
       "2  StartReadingOffer  5794343176311717876  1564681595     B\n",
       "3  StartReadingOffer  3371640160394640961  1564635919    A1\n",
       "4    OpenProductCard  4623191541226589455  1564695060    A1"
      ]
     },
     "execution_count": 3,
     "metadata": {},
     "output_type": "execute_result"
    }
   ],
   "source": [
    "data.head()"
   ]
  },
  {
   "cell_type": "code",
   "execution_count": 4,
   "metadata": {},
   "outputs": [
    {
     "name": "stdout",
     "output_type": "stream",
     "text": [
      "<class 'pandas.core.frame.DataFrame'>\n",
      "RangeIndex: 154788 entries, 0 to 154787\n",
      "Data columns (total 4 columns):\n",
      "event        154788 non-null object\n",
      "user_id      154788 non-null int64\n",
      "EventTime    154788 non-null int64\n",
      "Group        154788 non-null object\n",
      "dtypes: int64(2), object(2)\n",
      "memory usage: 4.7+ MB\n"
     ]
    }
   ],
   "source": [
    "data.info()"
   ]
  },
  {
   "cell_type": "code",
   "execution_count": 5,
   "metadata": {},
   "outputs": [],
   "source": [
    "#преобразуем дату\n",
    "data['EventTime'] = pd.to_datetime(data['EventTime'], unit='s')"
   ]
  },
  {
   "cell_type": "code",
   "execution_count": 6,
   "metadata": {},
   "outputs": [
    {
     "data": {
      "text/plain": [
       "event        0\n",
       "user_id      0\n",
       "EventTime    0\n",
       "Group        0\n",
       "dtype: int64"
      ]
     },
     "execution_count": 6,
     "metadata": {},
     "output_type": "execute_result"
    }
   ],
   "source": [
    "#проверяем пропущенные значения\n",
    "data.isnull().sum()"
   ]
  },
  {
   "cell_type": "markdown",
   "metadata": {},
   "source": [
    "**Вывод:** Проверили датасет - пропусков не найдено. Преобразовали колонку времени события в тип дата-время. "
   ]
  },
  {
   "cell_type": "markdown",
   "metadata": {},
   "source": [
    "## Изучение результатов эксперимента<a id=\"results\"></a>"
   ]
  },
  {
   "cell_type": "code",
   "execution_count": 7,
   "metadata": {},
   "outputs": [
    {
     "data": {
      "text/plain": [
       "Group\n",
       "A1    2276\n",
       "A2    2236\n",
       "B     2293\n",
       "Name: user_id, dtype: int64"
      ]
     },
     "execution_count": 7,
     "metadata": {},
     "output_type": "execute_result"
    }
   ],
   "source": [
    "#число пользователей в каждой контрольной группе\n",
    "data.groupby('Group')['user_id'].nunique()"
   ]
  },
  {
   "cell_type": "markdown",
   "metadata": {},
   "source": [
    "Есть 2 контрольные группы для А/А-эксперимента, чтобы проверить корректность всех механизмов и расчётов, проверем, находят ли статистические критерии разницу между выборками А1 и А2."
   ]
  },
  {
   "cell_type": "code",
   "execution_count": 8,
   "metadata": {},
   "outputs": [
    {
     "data": {
      "text/html": [
       "<div>\n",
       "<style scoped>\n",
       "    .dataframe tbody tr th:only-of-type {\n",
       "        vertical-align: middle;\n",
       "    }\n",
       "\n",
       "    .dataframe tbody tr th {\n",
       "        vertical-align: top;\n",
       "    }\n",
       "\n",
       "    .dataframe thead th {\n",
       "        text-align: right;\n",
       "    }\n",
       "</style>\n",
       "<table border=\"1\" class=\"dataframe\">\n",
       "  <thead>\n",
       "    <tr style=\"text-align: right;\">\n",
       "      <th></th>\n",
       "      <th>event</th>\n",
       "      <th>user_id</th>\n",
       "      <th>ratio</th>\n",
       "    </tr>\n",
       "  </thead>\n",
       "  <tbody>\n",
       "    <tr>\n",
       "      <th>0</th>\n",
       "      <td>StartReadingOffer</td>\n",
       "      <td>2223</td>\n",
       "      <td>0.976714</td>\n",
       "    </tr>\n",
       "    <tr>\n",
       "      <th>1</th>\n",
       "      <td>StartCheckProduct</td>\n",
       "      <td>1330</td>\n",
       "      <td>0.584359</td>\n",
       "    </tr>\n",
       "    <tr>\n",
       "      <th>2</th>\n",
       "      <td>OpenPaymentScreen</td>\n",
       "      <td>1117</td>\n",
       "      <td>0.490773</td>\n",
       "    </tr>\n",
       "    <tr>\n",
       "      <th>3</th>\n",
       "      <td>OpenProductCard</td>\n",
       "      <td>1077</td>\n",
       "      <td>0.473199</td>\n",
       "    </tr>\n",
       "  </tbody>\n",
       "</table>\n",
       "</div>"
      ],
      "text/plain": [
       "               event  user_id     ratio\n",
       "0  StartReadingOffer     2223  0.976714\n",
       "1  StartCheckProduct     1330  0.584359\n",
       "2  OpenPaymentScreen     1117  0.490773\n",
       "3    OpenProductCard     1077  0.473199"
      ]
     },
     "execution_count": 8,
     "metadata": {},
     "output_type": "execute_result"
    }
   ],
   "source": [
    "#сформируем выборки по 2м контрольным группам\n",
    "\n",
    "#экспериментальная группа А1\n",
    "\n",
    "sampleA1_ungrouped = data.query('Group == \"A1\"')\n",
    "\n",
    "sampleA1 = sampleA1_ungrouped.groupby('event').agg({'user_id': 'nunique'}).sort_values(by='user_id', ascending=False).reset_index()\n",
    "sampleA1['ratio'] = sampleA1['user_id'] / sampleA1_ungrouped['user_id'].nunique()\n",
    "sampleA1"
   ]
  },
  {
   "cell_type": "code",
   "execution_count": 9,
   "metadata": {},
   "outputs": [
    {
     "data": {
      "text/html": [
       "<div>\n",
       "<style scoped>\n",
       "    .dataframe tbody tr th:only-of-type {\n",
       "        vertical-align: middle;\n",
       "    }\n",
       "\n",
       "    .dataframe tbody tr th {\n",
       "        vertical-align: top;\n",
       "    }\n",
       "\n",
       "    .dataframe thead th {\n",
       "        text-align: right;\n",
       "    }\n",
       "</style>\n",
       "<table border=\"1\" class=\"dataframe\">\n",
       "  <thead>\n",
       "    <tr style=\"text-align: right;\">\n",
       "      <th></th>\n",
       "      <th>event</th>\n",
       "      <th>user_id</th>\n",
       "      <th>ratio</th>\n",
       "    </tr>\n",
       "  </thead>\n",
       "  <tbody>\n",
       "    <tr>\n",
       "      <th>0</th>\n",
       "      <td>StartReadingOffer</td>\n",
       "      <td>2185</td>\n",
       "      <td>0.977191</td>\n",
       "    </tr>\n",
       "    <tr>\n",
       "      <th>1</th>\n",
       "      <td>StartCheckProduct</td>\n",
       "      <td>1343</td>\n",
       "      <td>0.600626</td>\n",
       "    </tr>\n",
       "    <tr>\n",
       "      <th>2</th>\n",
       "      <td>OpenPaymentScreen</td>\n",
       "      <td>1142</td>\n",
       "      <td>0.510733</td>\n",
       "    </tr>\n",
       "    <tr>\n",
       "      <th>3</th>\n",
       "      <td>OpenProductCard</td>\n",
       "      <td>1096</td>\n",
       "      <td>0.490161</td>\n",
       "    </tr>\n",
       "  </tbody>\n",
       "</table>\n",
       "</div>"
      ],
      "text/plain": [
       "               event  user_id     ratio\n",
       "0  StartReadingOffer     2185  0.977191\n",
       "1  StartCheckProduct     1343  0.600626\n",
       "2  OpenPaymentScreen     1142  0.510733\n",
       "3    OpenProductCard     1096  0.490161"
      ]
     },
     "execution_count": 9,
     "metadata": {},
     "output_type": "execute_result"
    }
   ],
   "source": [
    "#экспериментальная группа А2\n",
    "\n",
    "sampleA2_ungrouped = data.query('Group == \"A2\"')\n",
    "\n",
    "sampleA2 = sampleA2_ungrouped.groupby('event').agg({'user_id': 'nunique'}).sort_values(by='user_id', ascending=False).reset_index()\n",
    "sampleA2['ratio'] = sampleA2['user_id'] / sampleA2_ungrouped['user_id'].nunique()\n",
    "sampleA2"
   ]
  },
  {
   "cell_type": "markdown",
   "metadata": {},
   "source": [
    "### Проверка А/А теста<a id=\"aatest\"></a>"
   ]
  },
  {
   "cell_type": "code",
   "execution_count": 10,
   "metadata": {},
   "outputs": [
    {
     "name": "stdout",
     "output_type": "stream",
     "text": [
      "Контрольные группы отличаются на 1.76 %\n"
     ]
    }
   ],
   "source": [
    "#сравниваем группы по размеру\n",
    "\n",
    "size_A1 = sampleA1_ungrouped['user_id'].nunique()\n",
    "size_A2 = sampleA2_ungrouped['user_id'].nunique()\n",
    "\n",
    "print('Контрольные группы отличаются на', round((size_A1-size_A2)/size_A1 *100, 2), '%' )"
   ]
  },
  {
   "cell_type": "markdown",
   "metadata": {},
   "source": [
    "К сожалению, размер контрольных групп отличается более, чем на 1%. В идеале, такой А/А тест следует считать провальным, но считаем что разница все таки около 1% и продолжим исследование.\n",
    "\n",
    "1. Проверим, есть ли статистическая разница между контрольными выборками A1 и A2 по средним значениям распределения пользователей по событиям.\n",
    "\n",
    "Нулевая гипотеза: выборки равноценны."
   ]
  },
  {
   "cell_type": "code",
   "execution_count": 11,
   "metadata": {},
   "outputs": [
    {
     "name": "stdout",
     "output_type": "stream",
     "text": [
      "p-значение: 0.990143378389625\n",
      "Не получилось отвергнуть нулевую гипотезу\n"
     ]
    }
   ],
   "source": [
    "#проверяем по кол-ву пользователей\n",
    "\n",
    "sample_1 = sampleA1['user_id']\n",
    "\n",
    "sample_2 = sampleA2['user_id']\n",
    "\n",
    "alpha = .05 # критический уровень статистической значимости\n",
    "\n",
    "results = st.ttest_ind(\n",
    "    sample_1, \n",
    "    sample_2)\n",
    "\n",
    "print('p-значение:', results.pvalue)\n",
    "\n",
    "if (results.pvalue < alpha):\n",
    "    print(\"Отвергаем нулевую гипотезу\")\n",
    "else:\n",
    "    print(\"Не получилось отвергнуть нулевую гипотезу\")"
   ]
  },
  {
   "cell_type": "markdown",
   "metadata": {},
   "source": [
    "2. Проверим, есть ли статистическая разница между контрольными выборками A1 и A2 по средним значениям долей.\n",
    "\n",
    "Нулевая гипотеза: выборки равны."
   ]
  },
  {
   "cell_type": "code",
   "execution_count": 12,
   "metadata": {},
   "outputs": [
    {
     "name": "stdout",
     "output_type": "stream",
     "text": [
      "p-значение: 1.0\n",
      "Не получилось отвергнуть нулевую гипотезу\n"
     ]
    }
   ],
   "source": [
    "#проверяем по кол-ву пользователей и по долям.\n",
    "\n",
    "sample_1 = sampleA1['ratio']\n",
    "\n",
    "sample_2 = sampleA1['ratio']\n",
    "\n",
    "alpha = .05 # критический уровень статистической значимости\n",
    "\n",
    "results = st.ttest_ind(\n",
    "    sample_1, \n",
    "    sample_2)\n",
    "\n",
    "print('p-значение:', results.pvalue)\n",
    "\n",
    "if (results.pvalue < alpha):\n",
    "    print(\"Отвергаем нулевую гипотезу\")\n",
    "else:\n",
    "    print(\"Не получилось отвергнуть нулевую гипотезу\")"
   ]
  },
  {
   "cell_type": "markdown",
   "metadata": {},
   "source": [
    "**Вывод:** A/A тест прошел успешно. Не смотря на то, что размер выборок больше 1%, статистические критерии не находят разницу между выборками контрольных групп A1 и A2."
   ]
  },
  {
   "cell_type": "markdown",
   "metadata": {},
   "source": [
    "### Функция определения статистического различия долей выборок по событию<a id=\"def\"></a>"
   ]
  },
  {
   "cell_type": "code",
   "execution_count": 13,
   "metadata": {},
   "outputs": [],
   "source": [
    "#функция определения статистического различия долей выборок по событию\n",
    "\n",
    "def stat_difference(event, sample1, sample2):\n",
    "    alpha = .05\n",
    "    \n",
    "    success1 = sample1.query('event == @event').groupby('event')['user_id'].nunique().sum() \n",
    "    success2 = sample2.query('event == @event').groupby('event')['user_id'].nunique().sum() \n",
    "\n",
    "    \n",
    "    trial1 = sample1['user_id'].nunique()\n",
    "    trial2 = sample2['user_id'].nunique()\n",
    "    \n",
    "\n",
    "    # пропорция успехов в первой группе:\n",
    "    p1 = success1/trial1\n",
    "\n",
    "    # пропорция успехов во второй группе:\n",
    "    p2 = success2/trial2\n",
    "\n",
    "    # пропорция успехов в комбинированном датасете:\n",
    "    p_combined = (success1 + success2) / (trial1 + trial2)\n",
    "\n",
    "    # разница пропорций в датасетах\n",
    "    difference = p1 - p2\n",
    "    print('Разница пропорций:', difference)\n",
    "\n",
    "    z_value = difference / mth.sqrt(p_combined * (1 - p_combined) * (1/trial1 + 1/trial2))\n",
    "\n",
    "    # задаем стандартное нормальное распределение (среднее 0, ст.отклонение 1)\n",
    "    distr = st.norm(0, 1) \n",
    "\n",
    "    p_value = (1 - distr.cdf(abs(z_value))) * 2\n",
    "\n",
    "    print('p-значение: ', p_value)\n",
    "\n",
    "    if (p_value < alpha):\n",
    "        print(\"Отвергаем нулевую гипотезу: между долями есть значимая разница\")\n",
    "    else:\n",
    "        print(\"Не получилось отвергнуть нулевую гипотезу, нет оснований считать доли разными\")"
   ]
  },
  {
   "cell_type": "markdown",
   "metadata": {},
   "source": [
    "### A/B тест<a id=\"abtest\"></a>\n",
    "\n",
    "**Сравнение контрольных групп A1 и A2 с группой с добавленным чатом (группа B)**"
   ]
  },
  {
   "cell_type": "code",
   "execution_count": 14,
   "metadata": {},
   "outputs": [],
   "source": [
    "#все события, о которых есть записи в датасете\n",
    "all_events = data['event'].unique()"
   ]
  },
  {
   "cell_type": "code",
   "execution_count": 15,
   "metadata": {},
   "outputs": [],
   "source": [
    "#выборка данных по группе B\n",
    "sampleB = data.query('Group == \"B\"')"
   ]
  },
  {
   "cell_type": "code",
   "execution_count": 16,
   "metadata": {},
   "outputs": [
    {
     "name": "stdout",
     "output_type": "stream",
     "text": [
      "\u001b[1mПроверка стат различий по событию: StartReadingOffer \u001b[0m\n",
      "Разница пропорций: -0.003661522000556361\n",
      "p-значение:  0.3930100442290123\n",
      "Не получилось отвергнуть нулевую гипотезу, нет оснований считать доли разными\n",
      "\n",
      "\u001b[1mПроверка стат различий по событию: OpenProductCard \u001b[0m\n",
      "Разница пропорций: -0.0012889768432541304\n",
      "p-значение:  0.930475633720478\n",
      "Не получилось отвергнуть нулевую гипотезу, нет оснований считать доли разными\n",
      "\n",
      "\u001b[1mПроверка стат различий по событию: StartCheckProduct \u001b[0m\n",
      "Разница пропорций: 0.006949016530021446\n",
      "p-значение:  0.6340897766832789\n",
      "Не получилось отвергнуть нулевую гипотезу, нет оснований считать доли разными\n",
      "\n",
      "\u001b[1mПроверка стат различий по событию: OpenPaymentScreen \u001b[0m\n",
      "Разница пропорций: 0.0084357374051231\n",
      "p-значение:  0.5683988278934891\n",
      "Не получилось отвергнуть нулевую гипотезу, нет оснований считать доли разными\n",
      "\n"
     ]
    }
   ],
   "source": [
    "#сравнение стат значимости различий долей групп A1 и B по каждому событию\n",
    "\n",
    "for event in all_events:\n",
    "    print('\\033[1m' + 'Проверка стат различий по событию:', event, '\\033[0m')\n",
    "    stat_difference(event, sampleA1_ungrouped, sampleB)\n",
    "    print('')"
   ]
  },
  {
   "cell_type": "code",
   "execution_count": 17,
   "metadata": {},
   "outputs": [
    {
     "name": "stdout",
     "output_type": "stream",
     "text": [
      "\u001b[1mПроверка стат различий по событию: StartReadingOffer \u001b[0m\n",
      "Разница пропорций: -0.003183641275812499\n",
      "p-значение:  0.4570777288860348\n",
      "Не получилось отвергнуть нулевую гипотезу, нет оснований считать доли разными\n",
      "\n",
      "\u001b[1mПроверка стат различий по событию: OpenProductCard \u001b[0m\n",
      "Разница пропорций: 0.015673430921050058\n",
      "p-значение:  0.2912553866611711\n",
      "Не получилось отвергнуть нулевую гипотезу, нет оснований считать доли разными\n",
      "\n",
      "\u001b[1mПроверка стат различий по событию: StartCheckProduct \u001b[0m\n",
      "Разница пропорций: 0.0232166108721652\n",
      "p-значение:  0.1123805625336558\n",
      "Не получилось отвергнуть нулевую гипотезу, нет оснований считать доли разными\n",
      "\n",
      "\u001b[1mПроверка стат различий по событию: OpenPaymentScreen \u001b[0m\n",
      "Разница пропорций: 0.028395903531553968\n",
      "p-значение:  0.056019682368946055\n",
      "Не получилось отвергнуть нулевую гипотезу, нет оснований считать доли разными\n",
      "\n"
     ]
    }
   ],
   "source": [
    "#сравнение стат значимости различий долей групп A2 и B по каждому событию\n",
    "\n",
    "for event in all_events:\n",
    "    print('\\033[1m' + 'Проверка стат различий по событию:', event, '\\033[0m')\n",
    "    stat_difference(event, sampleA2_ungrouped, sampleB)\n",
    "    print('')"
   ]
  },
  {
   "cell_type": "code",
   "execution_count": 18,
   "metadata": {},
   "outputs": [
    {
     "name": "stdout",
     "output_type": "stream",
     "text": [
      "\u001b[1mПроверка стат различий по событию: StartReadingOffer \u001b[0m\n",
      "Разница пропорций: -0.003424699903808337\n",
      "p-значение:  0.3615160775555841\n",
      "Не получилось отвергнуть нулевую гипотезу, нет оснований считать доли разными\n",
      "\n",
      "\u001b[1mПроверка стат различий по событию: OpenProductCard \u001b[0m\n",
      "Разница пропорций: 0.007117039061219299\n",
      "p-значение:  0.5785582485744634\n",
      "Не получилось отвергнуть нулевую гипотезу, нет оснований считать доли разными\n",
      "\n",
      "\u001b[1mПроверка стат различий по событию: StartCheckProduct \u001b[0m\n",
      "Разница пропорций: 0.015010705570144167\n",
      "p-значение:  0.23448894151684985\n",
      "Не получилось отвергнуть нулевую гипотезу, нет оснований считать доли разными\n",
      "\n",
      "\u001b[1mПроверка стат различий по событию: OpenPaymentScreen \u001b[0m\n",
      "Разница пропорций: 0.018327344554657565\n",
      "p-значение:  0.15291326723344678\n",
      "Не получилось отвергнуть нулевую гипотезу, нет оснований считать доли разными\n",
      "\n"
     ]
    }
   ],
   "source": [
    "#сравнение объединенной группы A1 с A2 и группы B\n",
    "\n",
    "#объединенная выборка A1 и A2\n",
    "sampleA1_A2 = data.query('Group == \"A1\" | Group == \"A2\"')\n",
    "\n",
    "for event in all_events:\n",
    "    print('\\033[1m' + 'Проверка стат различий по событию:', event, '\\033[0m')\n",
    "    stat_difference(event, sampleA1_A2, sampleB)\n",
    "    print('')"
   ]
  },
  {
   "cell_type": "markdown",
   "metadata": {},
   "source": [
    "# Выводы<a id=\"summary\"></a>\n",
    "\n",
    "А/B тест показал, что явных различий между конверсией контрольных групп и группы с добавленным чатом не обнаружено. Но при установленном уровне значимости 0,1, отвергается гипотеза о равенстве выборок в событии \"OpenPaymentScreen\" при сравнении A2 и B групп.\n",
    "\n",
    "Но при сравнении группы B группы с A1 и с объединенной группой (A1 и A2) при обоих значениях уровня значимости, выборки долей считаются равноценными. Поэтому считаем правильным установить уровень занчимости: 0.05. \n",
    "\n",
    "В целом добавление чата на сайт не влияет на конверсию."
   ]
  }
 ],
 "metadata": {
  "kernelspec": {
   "display_name": "Python 3",
   "language": "python",
   "name": "python3"
  },
  "language_info": {
   "codemirror_mode": {
    "name": "ipython",
    "version": 3
   },
   "file_extension": ".py",
   "mimetype": "text/x-python",
   "name": "python",
   "nbconvert_exporter": "python",
   "pygments_lexer": "ipython3",
   "version": "3.6.8"
  }
 },
 "nbformat": 4,
 "nbformat_minor": 2
}
